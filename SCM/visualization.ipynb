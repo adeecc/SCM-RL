{
 "cells": [
  {
   "cell_type": "code",
   "execution_count": 5,
   "metadata": {},
   "outputs": [],
   "source": [
    "import numpy as np\n",
    "import pandas as pd\n",
    "import matplotlib.pyplot as plt\n",
    "import seaborn as sns\n",
    "sns.set_theme(style=\"darkgrid\", palette=\"deep\")"
   ]
  },
  {
   "cell_type": "code",
   "execution_count": 6,
   "metadata": {},
   "outputs": [],
   "source": [
    "td3_data = pd.read_csv(\"./SB3/trained/transitions_e100_512_512.csv\")\n",
    "ddpg_ou_data = pd.read_csv(\"./SB3/trained/transitions_e100_ddpg_ou.csv\")\n",
    "ddpg_ga_data = pd.read_csv(\"./SB3/trained/transitions_e100_ddpg_ga.csv\")\n",
    "bo_data = pd.read_csv(\"./Baseline/transitions_bo.csv\")\n",
    "gs_data = pd.read_csv(\"./Baseline/transitions_gs.csv\")"
   ]
  },
  {
   "cell_type": "code",
   "execution_count": null,
   "metadata": {},
   "outputs": [],
   "source": [
    "def visualize(transitions, col_headers=None):\n",
    "\n",
    "    cols = len(transitions)\n",
    "    fig, axs = plt.subplots(8, cols, sharey='row', figsize=(20, 25))\n",
    "    fig.subplots_adjust(hspace=0.5, wspace=0.05)\n",
    "\n",
    "    if col_headers:\n",
    "        assert(len(col_headers) == len(transitions))\n",
    "\n",
    "        for ax, col in zip(axs[0], col_headers):\n",
    "            ax.set_title(col)\n",
    "\n",
    "    axs[0, 0].set_ylabel(\"Production Level\")\n",
    "    axs[1, 0].set_ylabel(\"Stock (Factory)\")\n",
    "    axs[2, 0].set_ylabel(\"Stock (Warehouse 1)\")\n",
    "    axs[3, 0].set_ylabel(\"Stock (Warehouse 2)\")\n",
    "    axs[4, 0].set_ylabel(\"Shippping (WH1)\")\n",
    "    axs[5, 0].set_ylabel(\"Shipping (WH2)\")\n",
    "    axs[6, 0].set_ylabel(\"Reward\")\n",
    "    axs[7, 0].set_ylabel(\"Cum. Reward\")\n",
    "\n",
    "    for i, transition in enumerate(transitions):\n",
    "\n",
    "        episodes = np.array(transition[\"episode\"].unique())\n",
    "        episode_num = np.random.randint(episodes.shape[0])\n",
    "        transition = transition[transition[\"episode\"] == episode_num]\n",
    "\n",
    "        transition.reset_index(inplace=True)\n",
    "\n",
    "        sns.lineplot(ax=axs[0, i], data=transition[\"factory_stock\"], color='purple')\n",
    "        sns.lineplot(ax=axs[1, i], data=transition[\"warehouse_stock_0\"], color='purple')\n",
    "        sns.lineplot(ax=axs[2, i], data=transition[\"warehouse_stock_1\"], color='purple')\n",
    "        sns.lineplot(ax=axs[3, i], data=transition[\"production_level\"])\n",
    "        sns.lineplot(ax=axs[4, i], data=transition[\"shipping_to_warehouse_0\"])\n",
    "        sns.lineplot(ax=axs[5, i], data=transition[\"shipping_to_warehouse_1\"])\n",
    "        sns.lineplot(ax=axs[6, i], data=transition[\"timestep_reward\"], color='red')\n",
    "        sns.lineplot(ax=axs[7, i], data=transition[\"total_reward\"], color='red')\n",
    "\n",
    "    return fig\n"
   ]
  },
  {
   "cell_type": "code",
   "execution_count": null,
   "metadata": {},
   "outputs": [],
   "source": [
    "baseline_fig = visualize([bo_data, gs_data], col_headers=(\"SQ Policy (Bayesian Optimization)\", \"SQ Policy (Grid Search)\"))\n",
    "baseline_fig.savefig(\"BaselineTransitions.png\", dpi=600)"
   ]
  },
  {
   "cell_type": "code",
   "execution_count": null,
   "metadata": {},
   "outputs": [],
   "source": [
    "rl_fig = visualize([td3_data, ddpg_ou_data, ddpg_ga_data], col_headers=(\"TD3\", \"DDPG (OU Noise)\", \"DDPG (Gaussian Noise)\"))\n",
    "rl_fig.savefig(\"RLTransitions.png\", dpi=600)"
   ]
  },
  {
   "cell_type": "code",
   "execution_count": null,
   "metadata": {},
   "outputs": [],
   "source": [
    "comp_fig = visualize([gs_data, td3_data], col_headers=(\"SQ Policy\", \"TD3\"))\n",
    "comp_fig.savefig(\"CompTransitions.png\", dpi=600)"
   ]
  },
  {
   "cell_type": "code",
   "execution_count": 13,
   "metadata": {},
   "outputs": [],
   "source": [
    "max_timesteps = bo_data[\"t\"].max()\n",
    "reward = pd.DataFrame()\n",
    "# reward[\"SQ Policy (Bayesian Optim)\"] = bo_data[bo_data[\"t\"] == max_timesteps][\"total_reward\"]\n",
    "# reward[\"SQ Policy (Grid Search)\"] = gs_data[gs_data[\"t\"] == max_timesteps][\"total_reward\"]\n",
    "reward[\"DDPG (OU Noise)\"] = ddpg_ou_data[ddpg_ou_data[\"t\"] == max_timesteps][\"total_reward\"]\n",
    "reward[\"DDPG (Normal Noise)\"] = ddpg_ga_data[ddpg_ga_data[\"t\"] == max_timesteps][\"total_reward\"]\n",
    "reward[\"TD3\"] = td3_data[td3_data[\"t\"] == max_timesteps][\"total_reward\"]\n",
    "\n"
   ]
  },
  {
   "cell_type": "code",
   "execution_count": 14,
   "metadata": {},
   "outputs": [
    {
     "name": "stdout",
     "output_type": "stream",
     "text": [
      "\\begin{tabular}{lrrr}\n",
      "\\toprule\n",
      "{} &  DDPG (OU Noise) &  DDPG (Normal Noise) &          TD3 \\\\\n",
      "\\midrule\n",
      "count &       100.000000 &           100.000000 &   100.000000 \\\\\n",
      "mean  &      5919.857497 &          6712.022324 &  6908.804928 \\\\\n",
      "std   &       546.589196 &           369.934698 &   554.791618 \\\\\n",
      "min   &      4243.253766 &          5205.745309 &  5028.133742 \\\\\n",
      "25\\%   &      5696.790404 &          6535.080093 &  6664.692108 \\\\\n",
      "50\\%   &      6003.205927 &          6696.306374 &  6868.734184 \\\\\n",
      "75\\%   &      6292.925239 &          6939.431120 &  7269.132868 \\\\\n",
      "max   &      6994.619925 &          7476.943817 &  7987.011609 \\\\\n",
      "\\bottomrule\n",
      "\\end{tabular}\n",
      "\n"
     ]
    }
   ],
   "source": [
    "print(reward.describe().to_latex())"
   ]
  },
  {
   "cell_type": "code",
   "execution_count": null,
   "metadata": {},
   "outputs": [],
   "source": [
    "reward.describe()"
   ]
  },
  {
   "cell_type": "code",
   "execution_count": null,
   "metadata": {},
   "outputs": [],
   "source": [
    "sns.relplot(data=reward, kind=\"line\", aspect=18/5, height=5)\n"
   ]
  },
  {
   "cell_type": "code",
   "execution_count": null,
   "metadata": {},
   "outputs": [],
   "source": [
    "reward_boxplot = sns.catplot(data=reward, kind=\"box\", height=5, aspect=1.8, palette=\"ch:s=.25,rot=-.25\")\n",
    "reward_boxplot.set_axis_labels(\"Algorithm\", \"Reward\")\n",
    "reward_boxplot.savefig(\"rewardboxplot.png\", dpi=900)\n",
    "# reward.boxplot()"
   ]
  },
  {
   "cell_type": "code",
   "execution_count": null,
   "metadata": {},
   "outputs": [],
   "source": [
    "reward_violinplot = sns.catplot(data=reward, kind=\"violin\", height=5, aspect=2.2, palette=\"ch:s=.25,rot=-.25\")\n",
    "reward_violinplot.set_axis_labels(\"Algorithm\", \"Reward\")\n",
    "reward_violinplot.savefig(\"rewardviolinplot.png\", dpi=900)"
   ]
  },
  {
   "cell_type": "code",
   "execution_count": null,
   "metadata": {},
   "outputs": [],
   "source": [
    "ddpg = pd.read_csv(\"./DDPG_DDPG_2.csv\")\n",
    "td3 = pd.read_csv(\"./TD3_TD3_300_400.csv\")\n",
    "\n",
    "critic_loss = pd.DataFrame()\n",
    "critic_loss[\"DDPG\"] = ddpg[\"Value\"][:300]\n",
    "critic_loss[\"TD3\"] = td3[\"Value\"][:300]\n"
   ]
  },
  {
   "cell_type": "code",
   "execution_count": null,
   "metadata": {},
   "outputs": [],
   "source": [
    "p = sns.relplot(data=critic_loss, kind=\"line\", aspect=6/5, height=5, palette=\"ch:s=.25,rot=-.25\")\n",
    "p.set_axis_labels(\"Epochs\", \"Critic Loss\")\n",
    "p.savefig(\"CriticLoss.png\", dpi=900)\n"
   ]
  },
  {
   "cell_type": "code",
   "execution_count": null,
   "metadata": {},
   "outputs": [],
   "source": []
  }
 ],
 "metadata": {
  "interpreter": {
   "hash": "b0225ae799aee3b3054bfa5d6273b6e18eb621c2aedf87ef8b98b2a34f478a47"
  },
  "kernelspec": {
   "display_name": "Python 3.8.10 64-bit ('rl': conda)",
   "name": "python3"
  },
  "language_info": {
   "codemirror_mode": {
    "name": "ipython",
    "version": 3
   },
   "file_extension": ".py",
   "mimetype": "text/x-python",
   "name": "python",
   "nbconvert_exporter": "python",
   "pygments_lexer": "ipython3",
   "version": "3.8.10"
  },
  "orig_nbformat": 4
 },
 "nbformat": 4,
 "nbformat_minor": 2
}